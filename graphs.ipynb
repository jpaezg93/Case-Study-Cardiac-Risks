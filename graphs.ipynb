{
  "cells": [
    {
      "cell_type": "markdown",
      "metadata": {
        "colab_type": "text",
        "id": "view-in-github"
      },
      "source": [
        "<a href=\"https://colab.research.google.com/github/jpaezg93/Case-Study-Cardiac-Risks/blob/main/graphs.ipynb\" target=\"_parent\"><img src=\"https://colab.research.google.com/assets/colab-badge.svg\" alt=\"Open In Colab\"/></a>"
      ]
    },
    {
      "cell_type": "code",
      "execution_count": 1,
      "metadata": {
        "id": "_xO0GM82JCgT"
      },
      "outputs": [],
      "source": [
        "import pandas as pd\n",
        "import matplotlib.pyplot as plt\n",
        "import plotly.graph_objects as go\n",
        "import numpy as np\n",
        "from sklearn.manifold import TSNE\n",
        "pd.options.mode.chained_assignment = None\n"
      ]
    },
    {
      "cell_type": "code",
      "execution_count": 2,
      "metadata": {
        "colab": {
          "base_uri": "https://localhost:8080/",
          "height": 226
        },
        "id": "I17bW5ryOvph",
        "outputId": "77f4d73c-9946-4b44-bc1a-173d9c9775ea"
      },
      "outputs": [
        {
          "data": {
            "text/html": [
              "<div>\n",
              "<style scoped>\n",
              "    .dataframe tbody tr th:only-of-type {\n",
              "        vertical-align: middle;\n",
              "    }\n",
              "\n",
              "    .dataframe tbody tr th {\n",
              "        vertical-align: top;\n",
              "    }\n",
              "\n",
              "    .dataframe thead th {\n",
              "        text-align: right;\n",
              "    }\n",
              "</style>\n",
              "<table border=\"1\" class=\"dataframe\">\n",
              "  <thead>\n",
              "    <tr style=\"text-align: right;\">\n",
              "      <th></th>\n",
              "      <th>age</th>\n",
              "      <th>anaemia</th>\n",
              "      <th>creatinine_phosphokinase</th>\n",
              "      <th>diabetes</th>\n",
              "      <th>ejection_fraction</th>\n",
              "      <th>high_blood_pressure</th>\n",
              "      <th>platelets</th>\n",
              "      <th>serum_creatinine</th>\n",
              "      <th>serum_sodium</th>\n",
              "      <th>sex</th>\n",
              "      <th>smoking</th>\n",
              "      <th>time</th>\n",
              "      <th>DEATH_EVENT</th>\n",
              "      <th>AgeRange</th>\n",
              "    </tr>\n",
              "  </thead>\n",
              "  <tbody>\n",
              "    <tr>\n",
              "      <th>0</th>\n",
              "      <td>75</td>\n",
              "      <td>False</td>\n",
              "      <td>582</td>\n",
              "      <td>False</td>\n",
              "      <td>20</td>\n",
              "      <td>True</td>\n",
              "      <td>265000.00</td>\n",
              "      <td>1.9</td>\n",
              "      <td>130</td>\n",
              "      <td>True</td>\n",
              "      <td>False</td>\n",
              "      <td>4</td>\n",
              "      <td>True</td>\n",
              "      <td>Elder</td>\n",
              "    </tr>\n",
              "    <tr>\n",
              "      <th>1</th>\n",
              "      <td>55</td>\n",
              "      <td>False</td>\n",
              "      <td>7861</td>\n",
              "      <td>False</td>\n",
              "      <td>38</td>\n",
              "      <td>False</td>\n",
              "      <td>263358.03</td>\n",
              "      <td>1.1</td>\n",
              "      <td>136</td>\n",
              "      <td>True</td>\n",
              "      <td>False</td>\n",
              "      <td>6</td>\n",
              "      <td>True</td>\n",
              "      <td>Adult</td>\n",
              "    </tr>\n",
              "    <tr>\n",
              "      <th>2</th>\n",
              "      <td>65</td>\n",
              "      <td>False</td>\n",
              "      <td>146</td>\n",
              "      <td>False</td>\n",
              "      <td>20</td>\n",
              "      <td>False</td>\n",
              "      <td>162000.00</td>\n",
              "      <td>1.3</td>\n",
              "      <td>129</td>\n",
              "      <td>True</td>\n",
              "      <td>True</td>\n",
              "      <td>7</td>\n",
              "      <td>True</td>\n",
              "      <td>Elder</td>\n",
              "    </tr>\n",
              "    <tr>\n",
              "      <th>3</th>\n",
              "      <td>50</td>\n",
              "      <td>True</td>\n",
              "      <td>111</td>\n",
              "      <td>False</td>\n",
              "      <td>20</td>\n",
              "      <td>False</td>\n",
              "      <td>210000.00</td>\n",
              "      <td>1.9</td>\n",
              "      <td>137</td>\n",
              "      <td>True</td>\n",
              "      <td>False</td>\n",
              "      <td>7</td>\n",
              "      <td>True</td>\n",
              "      <td>Adult</td>\n",
              "    </tr>\n",
              "    <tr>\n",
              "      <th>4</th>\n",
              "      <td>65</td>\n",
              "      <td>True</td>\n",
              "      <td>160</td>\n",
              "      <td>True</td>\n",
              "      <td>20</td>\n",
              "      <td>False</td>\n",
              "      <td>327000.00</td>\n",
              "      <td>2.7</td>\n",
              "      <td>116</td>\n",
              "      <td>False</td>\n",
              "      <td>False</td>\n",
              "      <td>8</td>\n",
              "      <td>True</td>\n",
              "      <td>Elder</td>\n",
              "    </tr>\n",
              "  </tbody>\n",
              "</table>\n",
              "</div>"
            ],
            "text/plain": [
              "   age  anaemia  creatinine_phosphokinase  diabetes  ejection_fraction  \\\n",
              "0   75    False                       582     False                 20   \n",
              "1   55    False                      7861     False                 38   \n",
              "2   65    False                       146     False                 20   \n",
              "3   50     True                       111     False                 20   \n",
              "4   65     True                       160      True                 20   \n",
              "\n",
              "   high_blood_pressure  platelets  serum_creatinine  serum_sodium    sex  \\\n",
              "0                 True  265000.00               1.9           130   True   \n",
              "1                False  263358.03               1.1           136   True   \n",
              "2                False  162000.00               1.3           129   True   \n",
              "3                False  210000.00               1.9           137   True   \n",
              "4                False  327000.00               2.7           116  False   \n",
              "\n",
              "   smoking  time  DEATH_EVENT AgeRange  \n",
              "0    False     4         True    Elder  \n",
              "1    False     6         True    Adult  \n",
              "2     True     7         True    Elder  \n",
              "3    False     7         True    Adult  \n",
              "4    False     8         True    Elder  "
            ]
          },
          "execution_count": 2,
          "metadata": {},
          "output_type": "execute_result"
        }
      ],
      "source": [
        "df =  pd.read_csv('Cleaned_Data.csv')\n",
        "df.head(5)\n"
      ]
    },
    {
      "cell_type": "code",
      "execution_count": 3,
      "metadata": {
        "colab": {
          "base_uri": "https://localhost:8080/",
          "height": 472
        },
        "id": "Ry5nQi2UQ9jo",
        "outputId": "0c4d6a71-8840-4315-9171-b85879bf68e4"
      },
      "outputs": [
        {
          "data": {
            "image/png": "[encoded data removed]",
            "text/plain": [
              "<Figure size 640x480 with 1 Axes>"
            ]
          },
          "metadata": {},
          "output_type": "display_data"
        }
      ],
      "source": [
        "bins = int(np.log2(len(df['age'])))+1\n",
        "plt.hist(df['age'], bins=bins, edgecolor='black')\n",
        "plt.title('Distribución de Edades')\n",
        "plt.xlabel('Edades')\n",
        "plt.ylabel('Frecuencia')\n",
        "\n",
        "plt.show()"
      ]
    },
    {
      "cell_type": "code",
      "execution_count": 4,
      "metadata": {
        "colab": {
          "base_uri": "https://localhost:8080/",
          "height": 469
        },
        "id": "wi0zDwGVZhsX",
        "outputId": "004f1820-c302-4d87-d5eb-94e5b8fd0103"
      },
      "outputs": [
        {
          "data": {
            "text/plain": [
              "Text(0, 0.5, 'Counts')"
            ]
          },
          "execution_count": 4,
          "metadata": {},
          "output_type": "execute_result"
        },
        {
          "data": {
            "image/png": "[encoded data removed]",
            "text/plain": [
              "<Figure size 640x480 with 1 Axes>"
            ]
          },
          "metadata": {},
          "output_type": "display_data"
        }
      ],
      "source": [
        "df1 = df[['sex', 'anaemia', 'diabetes', 'smoking', 'DEATH_EVENT']]\n",
        "df1.rename(columns={'DEATH_EVENT':'deceased', 'diabetes':'diabetic', 'anaemia':'anaemic', 'smoking':'smoker'},inplace=True)\n",
        "df2 = df1.groupby('sex', as_index=False).agg({'deceased':'sum', 'diabetic':'sum', 'anaemic':'sum','smoker':'sum'})\n",
        "df2['sex'] = df2['sex'].replace(to_replace={True: 'male', False: 'female'})\n",
        "df2.index=['female','male']\n",
        "df3 = df2.drop('sex',axis=1).T\n",
        "barplot = df3.plot(kind=\"bar\", color={'blue','red'}, width=0.8)\n",
        "plt.xticks(rotation='horizontal')\n",
        "plt.title('Grouped Histogram by Gender')\n",
        "plt.ylabel('Counts', fontsize= 12)\n",
        "\n"
      ]
    },
    {
      "cell_type": "code",
      "execution_count": 5,
      "metadata": {
        "colab": {
          "base_uri": "https://localhost:8080/",
          "height": 197
        },
        "id": "jlC40kwQgBvp",
        "outputId": "232988fc-96f8-471a-9302-d695412c426b"
      },
      "outputs": [
        {
          "data": {
            "image/png": "[encoded data removed]",
            "text/plain": [
              "<Figure size 640x480 with 4 Axes>"
            ]
          },
          "metadata": {},
          "output_type": "display_data"
        }
      ],
      "source": [
        "labels = ['No','Yes']\n",
        "colors = ['lightcoral', 'lightskyblue']\n",
        "fig, axs = plt.subplots(1, 4)\n",
        "axs[0].pie(df1['anaemic'].value_counts(), labels= labels, colors= colors, autopct='%1.1f%%', textprops={'fontsize': 8})\n",
        "axs[0].set_title('Anaemic', fontsize= 10)\n",
        "axs[1].pie(df1['diabetic'].value_counts(), labels= labels, colors= colors, autopct='%1.1f%%', textprops={'fontsize': 8})\n",
        "axs[1].set_title('Diabetic', fontsize= 10)\n",
        "axs[2].pie(df1['smoker'].value_counts(), labels= labels, colors= colors, autopct='%1.1f%%', textprops={'fontsize': 8})\n",
        "axs[2].set_title('Smoker', fontsize= 10)\n",
        "axs[3].pie(df1['deceased'].value_counts(), labels= labels, colors= colors, autopct='%1.1f%%', textprops={'fontsize': 8})\n",
        "axs[3].set_title('Deceased', fontsize= 10)\n",
        "\n",
        "plt.tight_layout()\n",
        "plt.show()\n",
        "\n"
      ]
    },
    {
      "cell_type": "code",
      "execution_count": 6,
      "metadata": {
        "id": "MAAaol72D-gl"
      },
      "outputs": [],
      "source": [
        "df_g = df.drop(columns=['age', 'DEATH_EVENT', 'AgeRange'])\n",
        "df_g = df_g.values\n",
        "death_event = df['DEATH_EVENT'].values.astype(int)\n",
        "X_embedded = TSNE(n_components=3, learning_rate='auto', init='random', perplexity=3).fit_transform(df_g)"
      ]
    },
    {
      "cell_type": "code",
      "execution_count": 7,
      "metadata": {
        "colab": {
          "base_uri": "https://localhost:8080/",
          "height": 542
        },
        "id": "QBsYY8YUGjgl",
        "outputId": "f82c5898-88b0-462a-eb3a-9fd68b01e804"
      },
      "outputs": [
        {
          "data": {
            "application/vnd.plotly.v1+json": {
              "config": {
                "plotlyServerURL": "https://plot.ly"
              },
              "data": [
                {
                  "marker": {
                    "color": [
                      1,
                      1,
                      1,
                      1,
                      1,
                      1,
                      1,
                      1,
                      1,
                      1,
                      1,
                      1,
                      1,
                      1,
                      0,
                      1,
                      1,
                      1,
                      1,
                      1,
                      0,
                      1,
                      1,
                      0,
                      1,
                      1,
                      1,
                      1,
                      1,
                      1,
                      1,
                      1,
                      1,
                      0,
                      1,
                      1,
                      1,
                      1,
                      0,
                      1,
                      1,
                      1,
                      1,
                      0,
                      1,
                      1,
                      1,
                      1,
                      1,
                      1,
                      1,
                      1,
                      1,
                      1,
                      1,
                      1,
                      0,
                      0,
                      1,
                      1,
                      1,
                      1,
                      0,
                      1,
                      0,
                      1,
                      1,
                      1,
                      1,
                      1,
                      0,
                      0,
                      1,
                      0,
                      1,
                      1,
                      0,
                      0,
                      0,
                      0,
                      0,
                      0,
                      1,
                      0,
                      1,
                      0,
                      0,
                      0,
                      0,
                      0,
                      0,
                      0,
                      0,
                      1,
                      0,
                      0,
                      0,
                      0,
                      0,
                      0,
                      0,
                      0,
                      0,
                      0,
                      0,
                      1,
                      0,
                      0,
                      0,
                      0,
                      1,
                      0,
                      0,
                      1,
                      0,
                      0,
                      0,
                      0,
                      0,
                      1,
                      0,
                      0,
                      0,
                      0,
                      1,
                      0,
                      1,
                      0,
                      0,
                      0,
                      0,
                      0,
                      0,
                      0,
                      0,
                      0,
                      0,
                      0,
                      0,
                      0,
                      1,
                      0,
                      0,
                      0,
                      1,
                      0,
                      0,
                      0,
                      1,
                      0,
                      1,
                      0,
                      0,
                      0,
                      0,
                      0,
                      0,
                      0,
                      0,
                      0,
                      0,
                      0,
                      0,
                      1,
                      1,
                      1,
                      0,
                      1,
                      0,
                      0,
                      0,
                      0,
                      0,
                      0,
                      0,
                      0,
                      0,
                      0,
                      0,
                      0,
                      0,
                      1,
                      1,
                      1,
                      1,
                      1,
                      1,
                      1,
                      0,
                      0,
                      0,
                      0,
                      0,
                      0,
                      1,
                      1,
                      0,
                      0,
                      0,
                      0,
                      0,
                      0,
                      0,
                      0,
                      0,
                      0,
                      0,
                      0,
                      0,
                      0,
                      0,
                      0,
                      0,
                      1,
                      0,
                      0,
                      0,
                      1,
                      0,
                      0,
                      1,
                      0,
                      0,
                      0,
                      0,
                      0,
                      0,
                      0,
                      0,
                      0,
                      1,
                      0,
                      0,
                      0,
                      0,
                      0,
                      0,
                      0,
                      0,
                      0,
                      0,
                      0,
                      0,
                      0,
                      0,
                      0,
                      1,
                      0,
                      0,
                      0,
                      0,
                      0,
                      0,
                      0,
                      0,
                      0,
                      0,
                      0,
                      0,
                      0,
                      0,
                      0,
                      1,
                      0,
                      0,
                      0,
                      1,
                      0,
                      0,
                      0,
                      0,
                      0,
                      0,
                      0,
                      0,
                      0,
                      0,
                      0,
                      0,
                      0,
                      0,
                      0,
                      0,
                      0,
                      0,
                      0,
                      0,
                      0,
                      0,
                      0,
                      0,
                      0,
                      0,
                      0,
                      0,
                      0,
                      0,
                      0,
                      0
                    ],
                    "colorscale": [
                      [
                        0,
                        "#0d0887"
                      ],
                      [
                        0.1111111111111111,
                        "#46039f"
                      ],
                      [
                        0.2222222222222222,
                        "#7201a8"
                      ],
                      [
                        0.3333333333333333,
                        "#9c179e"
                      ],
                      [
                        0.4444444444444444,
                        "#bd3786"
                      ],
                      [
                        0.5555555555555556,
                        "#d8576b"
                      ],
                      [
                        0.6666666666666666,
                        "#ed7953"
                      ],
                      [
                        0.7777777777777778,
                        "#fb9f3a"
                      ],
                      [
                        0.8888888888888888,
                        "#fdca26"
                      ],
                      [
                        1,
                        "#f0f921"
                      ]
                    ],
                    "opacity": 0.8,
                    "size": 5
                  },
                  "mode": "markers",
                  "type": "scatter3d",
                  "x": [
                    -7.543024063110352,
                    -6.494749069213867,
                    2.7912838459014893,
                    -10.403135299682617,
                    5.4047322273254395,
                    -18.722766876220703,
                    -12.619436264038086,
                    -18.25088882446289,
                    2.5853395462036133,
                    1.4987809658050537,
                    -5.992012977600098,
                    19.856483459472656,
                    -10.435484886169434,
                    5.158840179443359,
                    11.849823951721191,
                    -5.907810211181641,
                    4.405605316162109,
                    1.3718271255493164,
                    22.325817108154297,
                    -9.704283714294434,
                    5.151185035705566,
                    -3.1236560344696045,
                    -5.160351753234863,
                    -5.992824554443359,
                    8.056492805480957,
                    -0.9629135727882385,
                    -23.29761505126953,
                    -5.363823413848877,
                    2.2075586318969727,
                    -21.304689407348633,
                    7.891077041625977,
                    -12.654189109802246,
                    13.569104194641113,
                    1.1739498376846313,
                    -3.703691244125366,
                    12.241259574890137,
                    9.423831939697266,
                    14.094987869262695,
                    6.3198089599609375,
                    3.517362356185913,
                    8.142444610595703,
                    2.4706671237945557,
                    -1.0480583906173706,
                    -7.149434566497803,
                    -25.574190139770508,
                    10.53954792022705,
                    -17.100666046142578,
                    -18.01076316833496,
                    -9.054823875427246,
                    4.832470417022705,
                    1.4120900630950928,
                    11.115361213684082,
                    -5.807178020477295,
                    6.711212158203125,
                    9.666400909423828,
                    -18.330703735351562,
                    6.5142316818237305,
                    -8.668473243713379,
                    13.635371208190918,
                    17.37895965576172,
                    3.5174190998077393,
                    -8.739018440246582,
                    17.244783401489258,
                    -0.3524676263332367,
                    3.930432081222534,
                    -12.231057167053223,
                    -9.925544738769531,
                    6.660217761993408,
                    13.245769500732422,
                    -18.601802825927734,
                    -3.5621657371520996,
                    -12.364542961120605,
                    13.75848388671875,
                    -0.8930387496948242,
                    -9.902582168579102,
                    -18.724044799804688,
                    12.845026969909668,
                    22.205055236816406,
                    -5.326595306396484,
                    6.299732685089111,
                    -4.693238735198975,
                    3.050955057144165,
                    -23.295272827148438,
                    4.7696685791015625,
                    1.208112359046936,
                    8.32382583618164,
                    3.833841562271118,
                    5.154376029968262,
                    19.5295352935791,
                    1.0039341449737549,
                    13.174121856689453,
                    -3.255718946456909,
                    3.2882862091064453,
                    -10.465921401977539,
                    5.6038498878479,
                    -6.1032843589782715,
                    17.43634605407715,
                    10.320977210998535,
                    13.178153038024902,
                    -0.8027435541152954,
                    -2.795006036758423,
                    2.439194917678833,
                    -1.2239073514938354,
                    11.31142807006836,
                    -5.274013519287109,
                    -19.358713150024414,
                    0.7414019703865051,
                    10.278233528137207,
                    5.239811897277832,
                    -19.730754852294922,
                    7.934900283813477,
                    12.01031494140625,
                    20.790842056274414,
                    6.978234767913818,
                    4.439658164978027,
                    1.8036361932754517,
                    -18.19083023071289,
                    -18.73074722290039,
                    -19.44420623779297,
                    1.8848297595977783,
                    -10.4489164352417,
                    2.825256109237671,
                    11.786397933959961,
                    -12.720199584960938,
                    -8.299625396728516,
                    21.846328735351562,
                    -18.0728702545166,
                    -0.5692515969276428,
                    -11.61054801940918,
                    10.56302261352539,
                    13.250372886657715,
                    13.22508430480957,
                    -0.17825201153755188,
                    -4.307500839233398,
                    14.283804893493652,
                    1.455795168876648,
                    4.7685136795043945,
                    6.9054646492004395,
                    -0.9064863920211792,
                    -10.402276992797852,
                    -0.4156952500343323,
                    7.367957592010498,
                    3.612912178039551,
                    12.681516647338867,
                    -5.493875026702881,
                    -9.955997467041016,
                    -7.149310111999512,
                    13.511076927185059,
                    9.351166725158691,
                    12.446011543273926,
                    19.19623374938965,
                    12.945783615112305,
                    -0.43801409006118774,
                    -4.811962604522705,
                    19.25577163696289,
                    -25.205934524536133,
                    4.62941837310791,
                    4.401468753814697,
                    18.848546981811523,
                    -11.495246887207031,
                    13.398724555969238,
                    3.120863437652588,
                    -18.114364624023438,
                    -8.908300399780273,
                    -6.666094779968262,
                    -26.43964195251465,
                    -4.6631059646606445,
                    -8.111945152282715,
                    -17.368440628051758,
                    6.792606353759766,
                    0.5809239745140076,
                    6.530435085296631,
                    2.463874101638794,
                    -4.237972259521484,
                    -4.3764519691467285,
                    -5.727928638458252,
                    -11.73173713684082,
                    -11.431818008422852,
                    -11.564453125,
                    -3.1400039196014404,
                    1.8039153814315796,
                    -0.809550404548645,
                    -7.672399044036865,
                    7.370656490325928,
                    -6.100583076477051,
                    2.337766170501709,
                    2.3154149055480957,
                    -8.310042381286621,
                    -21.10247802734375,
                    6.130996227264404,
                    7.3835649490356445,
                    10.21824836730957,
                    6.500212669372559,
                    3.255218029022217,
                    -12.666135787963867,
                    5.914184093475342,
                    0.08671311289072037,
                    6.744226932525635,
                    -3.236870765686035,
                    -3.0621747970581055,
                    -8.61678409576416,
                    -2.9053220748901367,
                    -4.695413589477539,
                    -9.958674430847168,
                    4.626434326171875,
                    -11.582417488098145,
                    9.535603523254395,
                    -1.3057481050491333,
                    -6.567985534667969,
                    -12.46960735321045,
                    2.2180862426757812,
                    -2.68074893951416,
                    -18.490497589111328,
                    13.116363525390625,
                    -5.133439064025879,
                    -18.975637435913086,
                    -13.57667064666748,
                    0.32958754897117615,
                    -17.300987243652344,
                    -4.633822917938232,
                    -0.16615542769432068,
                    -25.07665252685547,
                    -8.27027702331543,
                    -11.802420616149902,
                    -18.685779571533203,
                    -7.269382476806641,
                    -3.7336513996124268,
                    -8.631683349609375,
                    21.676897048950195,
                    6.37387228012085,
                    -7.346070766448975,
                    -0.8043459057807922,
                    10.60002613067627,
                    3.083307981491089,
                    7.143925189971924,
                    8.299749374389648,
                    13.157928466796875,
                    3.827242612838745,
                    8.463271141052246,
                    2.5298402309417725,
                    -19.077207565307617,
                    13.190704345703125,
                    10.568534851074219,
                    -4.404789924621582,
                    -1.4891868829727173,
                    -4.670398712158203,
                    12.282872200012207,
                    13.127148628234863,
                    0.021585293114185333,
                    6.240162372589111,
                    7.861485481262207,
                    15.332347869873047,
                    6.548917293548584,
                    20.994230270385742,
                    0.9005144238471985,
                    -6.45481014251709,
                    -4.504472732543945,
                    19.8479061126709,
                    15.957869529724121,
                    9.971953392028809,
                    -19.502164840698242,
                    -5.647854804992676,
                    -22.377304077148438,
                    -10.722146034240723,
                    -2.680818796157837,
                    -11.345998764038086,
                    -3.040698289871216,
                    -11.10091781616211,
                    0.9811542630195618,
                    3.010432004928589,
                    -0.04231376573443413,
                    -1.1501652002334595,
                    -9.216748237609863,
                    -4.208308696746826,
                    -0.03749636188149452,
                    11.422713279724121,
                    5.165338516235352,
                    -5.0342864990234375,
                    15.510490417480469,
                    -18.372539520263672,
                    13.602913856506348,
                    -6.121560573577881,
                    -9.228618621826172,
                    -4.643975734710693,
                    -2.4964165687561035,
                    -5.974158763885498,
                    -2.787329912185669,
                    -19.12052345275879,
                    -1.3117971420288086,
                    2.9807074069976807,
                    3.0090951919555664,
                    -11.021652221679688,
                    -0.862406313419342,
                    1.2285352945327759,
                    3.118877410888672,
                    -16.372289657592773,
                    -19.6939754486084,
                    -8.763031005859375,
                    4.832605361938477
                  ],
                  "y": [
                    -1.5398954153060913,
                    -8.883644104003906,
                    8.010478019714355,
                    2.5296013355255127,
                    5.883479595184326,
                    -3.7812693119049072,
                    6.2450737953186035,
                    -11.92137622833252,
                    -6.36397647857666,
                    21.528078079223633,
                    20.48813247680664,
                    -12.409042358398438,
                    11.294150352478027,
                    -7.488747596740723,
                    22.737552642822266,
                    -2.111628532409668,
                    -9.84875202178955,
                    7.29634428024292,
                    -1.4966731071472168,
                    0.24316062033176422,
                    -7.50409460067749,
                    -19.359703063964844,
                    -18.8116512298584,
                    20.48805809020996,
                    -4.161297798156738,
                    11.58664321899414,
                    -0.9231351613998413,
                    -17.178075790405273,
                    7.192917823791504,
                    -1.9087826013565063,
                    -4.217681407928467,
                    19.270116806030273,
                    -5.261735916137695,
                    -18.254146575927734,
                    -9.552390098571777,
                    7.84560489654541,
                    9.514927864074707,
                    -4.223968505859375,
                    -15.043354988098145,
                    7.3739399909973145,
                    -4.095327854156494,
                    7.400670528411865,
                    -4.75382661819458,
                    6.301483631134033,
                    -0.20920516550540924,
                    -9.854107856750488,
                    7.711895942687988,
                    -12.259580612182617,
                    13.249284744262695,
                    21.93231964111328,
                    7.316588878631592,
                    22.66449546813965,
                    -8.784416198730469,
                    21.60233497619629,
                    -13.110298156738281,
                    -11.310752868652344,
                    9.745450019836426,
                    5.163712024688721,
                    -5.1325602531433105,
                    -13.05606460571289,
                    22.342365264892578,
                    5.107701778411865,
                    -12.776894569396973,
                    21.194988250732422,
                    -4.673774719238281,
                    3.5819613933563232,
                    3.7138168811798096,
                    -4.407973766326904,
                    1.9400349855422974,
                    -9.27904987335205,
                    20.77069664001465,
                    3.877687931060791,
                    6.092732906341553,
                    11.591193199157715,
                    -0.4859238266944885,
                    -3.779690980911255,
                    -6.539853096008301,
                    -0.9251840710639954,
                    -16.71613883972168,
                    4.808082580566406,
                    -19.545801162719727,
                    -4.497344017028809,
                    -0.9242389798164368,
                    -0.124137744307518,
                    -17.898487091064453,
                    22.290069580078125,
                    -0.8601399660110474,
                    -14.696871757507324,
                    1.0188019275665283,
                    -3.16776180267334,
                    -2.329462766647339,
                    -19.51715850830078,
                    -4.54232931137085,
                    2.6402981281280518,
                    6.006349086761475,
                    7.058149814605713,
                    -13.251344680786133,
                    -13.707473754882812,
                    -5.976095199584961,
                    8.345505714416504,
                    -19.25408935546875,
                    -4.400059700012207,
                    12.227490425109863,
                    7.2421345710754395,
                    -17.72964859008789,
                    -7.366018295288086,
                    -8.852022171020508,
                    8.08767032623291,
                    -14.679533004760742,
                    -6.61403226852417,
                    -12.563185691833496,
                    8.3688325881958,
                    -12.150899887084961,
                    21.149715423583984,
                    6.626543998718262,
                    7.514011383056641,
                    9.066807746887207,
                    -8.822199821472168,
                    -3.0695271492004395,
                    -4.314414024353027,
                    2.877502918243408,
                    8.027963638305664,
                    8.475018501281738,
                    6.269076824188232,
                    5.456334590911865,
                    -1.5272669792175293,
                    8.939247131347656,
                    -17.93604278564453,
                    0.43706122040748596,
                    9.187764167785645,
                    -4.013161659240723,
                    -3.64037823677063,
                    -8.480255126953125,
                    -19.646814346313477,
                    5.507014274597168,
                    -4.244663715362549,
                    -0.12616999447345734,
                    -13.477665901184082,
                    9.025495529174805,
                    3.2157516479492188,
                    -8.458999633789062,
                    21.800559997558594,
                    7.3186259269714355,
                    8.166202545166016,
                    18.343708038330078,
                    -0.45954594016075134,
                    6.301601886749268,
                    4.661255836486816,
                    8.919398307800293,
                    7.093580722808838,
                    1.3475239276885986,
                    2.0481159687042236,
                    -4.465919017791748,
                    -8.644607543945312,
                    1.2403593063354492,
                    -0.010981547646224499,
                    -8.538514137268066,
                    -9.84804916381836,
                    1.6022248268127441,
                    19.358707427978516,
                    3.989152431488037,
                    -1.4297091960906982,
                    -12.819768905639648,
                    -0.35107800364494324,
                    16.523052215576172,
                    0.2283501923084259,
                    8.548028945922852,
                    -0.8661611676216125,
                    8.192390441894531,
                    -14.003057479858398,
                    -4.091248512268066,
                    3.9457008838653564,
                    -1.9572845697402954,
                    -9.913308143615723,
                    -16.48518943786621,
                    17.980175018310547,
                    2.5810751914978027,
                    9.501566886901855,
                    0.4088631272315979,
                    -14.579251289367676,
                    -16.734291076660156,
                    8.57040023803711,
                    -1.8091740608215332,
                    9.451460838317871,
                    7.059873580932617,
                    21.514942169189453,
                    7.383106708526611,
                    20.222782135009766,
                    -2.0128583908081055,
                    -5.501546859741211,
                    21.693950653076172,
                    -10.255523681640625,
                    -11.384539604187012,
                    8.238706588745117,
                    5.68487548828125,
                    9.83074951171875,
                    -4.026230812072754,
                    -11.527729034423828,
                    -14.98745059967041,
                    -8.469694137573242,
                    -0.571090579032898,
                    20.85133934020996,
                    8.41636848449707,
                    3.6681008338928223,
                    -8.5438871383667,
                    19.749921798706055,
                    9.439094543457031,
                    -5.371669769287109,
                    -15.754983901977539,
                    0.9442124962806702,
                    21.906917572021484,
                    13.01884651184082,
                    -9.764823913574219,
                    1.5345633029937744,
                    -18.899118423461914,
                    -2.8729095458984375,
                    19.03986167907715,
                    10.009001731872559,
                    7.960821151733398,
                    20.643417358398438,
                    -3.8622663021087646,
                    -0.28302207589149475,
                    20.226547241210938,
                    8.677382469177246,
                    -8.924839973449707,
                    -1.5530810356140137,
                    -10.273506164550781,
                    13.717177391052246,
                    -0.9158600568771362,
                    -4.910817623138428,
                    -1.3203426599502563,
                    -5.0319318771362305,
                    -13.102499008178711,
                    7.840793132781982,
                    -13.50295352935791,
                    22.435791015625,
                    -1.5886096954345703,
                    -0.8651206493377686,
                    -12.463338851928711,
                    -6.3188886642456055,
                    -7.959209442138672,
                    -2.70721173286438,
                    -13.643635749816895,
                    9.508099555969238,
                    -3.349212646484375,
                    -16.527679443359375,
                    -7.455648422241211,
                    0.09920686483383179,
                    -17.756052017211914,
                    9.723557472229004,
                    22.32181167602539,
                    5.168935298919678,
                    -4.718563079833984,
                    -0.2714056372642517,
                    -4.890326976776123,
                    16.852880477905273,
                    -19.61841583251953,
                    -12.410984992980957,
                    4.21193265914917,
                    -10.551484107971191,
                    -3.0797252655029297,
                    -16.481191635131836,
                    -1.366392970085144,
                    2.4920501708984375,
                    13.0186767578125,
                    19.777982711791992,
                    -8.467935562133789,
                    10.26002025604248,
                    -17.576656341552734,
                    9.990242958068848,
                    -3.6238560676574707,
                    9.55652141571045,
                    4.693801403045654,
                    -10.385601043701172,
                    10.476944923400879,
                    22.69435691833496,
                    6.033633232116699,
                    -2.5286595821380615,
                    4.768040657043457,
                    -12.471853256225586,
                    5.2007293701171875,
                    -2.000638246536255,
                    4.683622360229492,
                    -8.622532844543457,
                    -15.202798843383789,
                    17.5972900390625,
                    -14.80716323852539,
                    -7.866523742675781,
                    -8.373650550842285,
                    21.920255661010742,
                    9.990422248840332,
                    10.244733810424805,
                    21.118974685668945,
                    -2.9766619205474854,
                    6.275156021118164,
                    6.917337894439697,
                    -6.688082695007324,
                    13.556678771972656,
                    21.932340621948242
                  ],
                  "z": [
                    2.996215581893921,
                    -6.208442211151123,
                    9.656123161315918,
                    -22.317476272583008,
                    -19.17565155029297,
                    -9.985801696777344,
                    10.913960456848145,
                    0.2885929048061371,
                    5.566751956939697,
                    1.5789110660552979,
                    1.1020972728729248,
                    5.011588096618652,
                    12.096292495727539,
                    22.575382232666016,
                    7.717523574829102,
                    15.097151756286621,
                    2.0156688690185547,
                    7.548137187957764,
                    6.994904518127441,
                    13.222898483276367,
                    22.560503005981445,
                    -1.4932132959365845,
                    3.871222496032715,
                    1.102004051208496,
                    -0.7166505455970764,
                    20.209150314331055,
                    -3.45733380317688,
                    6.780134677886963,
                    21.438207626342773,
                    -5.724905967712402,
                    -0.8701421618461609,
                    -0.09954702109098434,
                    -14.05840015411377,
                    -5.804342746734619,
                    -20.242504119873047,
                    0.4355657398700714,
                    -1.2369661331176758,
                    -14.55228328704834,
                    -11.002748489379883,
                    -16.597604751586914,
                    -0.3748420476913452,
                    21.422208786010742,
                    -16.010522842407227,
                    -10.029999732971191,
                    -1.8323092460632324,
                    -11.900181770324707,
                    0.7447342872619629,
                    -0.3957080841064453,
                    13.016860961914062,
                    3.35107421875,
                    7.607717514038086,
                    7.325690746307373,
                    -5.686222553253174,
                    -13.505077362060547,
                    3.2100753784179688,
                    1.1582674980163574,
                    -4.974230766296387,
                    -13.414454460144043,
                    -14.120074272155762,
                    4.09326171875,
                    0.23570653796195984,
                    -13.588878631591797,
                    4.309618949890137,
                    1.624718189239502,
                    -2.0633132457733154,
                    11.62643814086914,
                    -18.43136215209961,
                    25.47810173034668,
                    15.010573387145996,
                    4.23338508605957,
                    1.42920982837677,
                    11.52617073059082,
                    16.684051513671875,
                    20.348812103271484,
                    1.7662231922149658,
                    -9.982303619384766,
                    -13.451017379760742,
                    7.152678489685059,
                    7.698556423187256,
                    -19.410293579101562,
                    1.5536860227584839,
                    -0.9284408688545227,
                    -3.4594194889068604,
                    -10.303840637207031,
                    -5.710866451263428,
                    5.805885314941406,
                    -11.161859512329102,
                    -8.535100936889648,
                    3.6240150928497314,
                    -13.911643028259277,
                    12.895241737365723,
                    -1.539454460144043,
                    -1.2628538608551025,
                    -22.315629959106445,
                    -19.07389259338379,
                    -8.472888946533203,
                    3.9440135955810547,
                    3.6561217308044434,
                    -13.716683387756348,
                    -4.555853843688965,
                    -1.989566683769226,
                    -0.32617828249931335,
                    20.512598037719727,
                    -2.4281344413757324,
                    5.866501331329346,
                    7.9944939613342285,
                    -1.091610074043274,
                    -2.53712797164917,
                    -8.659146308898926,
                    9.634105682373047,
                    -10.522858619689941,
                    1.0614171028137207,
                    5.368949890136719,
                    -13.440832138061523,
                    -17.653751373291016,
                    8.190119743347168,
                    -0.37832000851631165,
                    5.04100227355957,
                    -8.401083946228027,
                    0.24355310201644897,
                    -21.71407127380371,
                    9.703618049621582,
                    0.8888411521911621,
                    11.209903717041016,
                    -12.50003719329834,
                    7.63287353515625,
                    -0.4394529461860657,
                    -3.910170078277588,
                    1.0037238597869873,
                    0.13099052011966705,
                    12.7127046585083,
                    12.216552734375,
                    -1.6881742477416992,
                    0.5383076667785645,
                    -0.35323047637939453,
                    0.7622441649436951,
                    -10.303993225097656,
                    -10.21267318725586,
                    -4.793868064880371,
                    -20.80086326599121,
                    -1.8399908542633057,
                    -12.646720886230469,
                    -16.70160675048828,
                    1.9596247673034668,
                    -11.216890335083008,
                    1.7425105571746826,
                    -10.030607223510742,
                    16.059110641479492,
                    -2.4238786697387695,
                    -0.6851192712783813,
                    3.4483139514923096,
                    14.77625560760498,
                    -15.461706161499023,
                    -4.933567523956299,
                    3.0368781089782715,
                    -1.8769363164901733,
                    21.564329147338867,
                    2.0156607627868652,
                    2.346919536590576,
                    0.06954862177371979,
                    15.763834953308105,
                    -11.834134101867676,
                    -0.9894151091575623,
                    13.638258934020996,
                    -12.610057830810547,
                    -1.1230181455612183,
                    -6.597296237945557,
                    14.038372993469238,
                    -0.9476090669631958,
                    -10.413712501525879,
                    2.1420371532440186,
                    -18.84368133544922,
                    -12.461885452270508,
                    -20.958248138427734,
                    9.455694198608398,
                    -11.493854522705078,
                    11.985828399658203,
                    11.533384323120117,
                    1.0236859321594238,
                    14.833582878112793,
                    -5.889200210571289,
                    -5.015170097351074,
                    2.736837148666382,
                    -4.110547065734863,
                    -8.470722198486328,
                    1.6557848453521729,
                    20.968671798706055,
                    0.6818088293075562,
                    -5.965919494628906,
                    24.454519271850586,
                    -13.405132293701172,
                    -11.708003997802734,
                    2.600639820098877,
                    10.362186431884766,
                    11.135895729064941,
                    -5.1918463706970215,
                    3.34487247467041,
                    2.651454448699951,
                    14.507112503051758,
                    -3.644136428833008,
                    13.791114807128906,
                    1.4959862232208252,
                    -6.6676201820373535,
                    -18.61168098449707,
                    21.55891990661621,
                    0.29568421840667725,
                    -1.1840695142745972,
                    -16.463790893554688,
                    7.743614673614502,
                    0.6277120113372803,
                    1.3922216892242432,
                    18.810876846313477,
                    3.434258460998535,
                    14.667963027954102,
                    3.665631055831909,
                    -8.063094139099121,
                    -0.2985355854034424,
                    20.690658569335938,
                    0.5392979979515076,
                    1.2960137128829956,
                    3.6719162464141846,
                    -1.736220121383667,
                    0.689135730266571,
                    11.362855911254883,
                    4.823403835296631,
                    2.74338436126709,
                    -20.929821014404297,
                    13.32645034790039,
                    6.609836101531982,
                    25.292142868041992,
                    14.41318416595459,
                    -15.964214324951172,
                    3.3048369884490967,
                    -16.079980850219727,
                    -10.091754913330078,
                    5.814920902252197,
                    13.252811431884766,
                    -11.167854309082031,
                    2.977720022201538,
                    5.540388584136963,
                    6.732178688049316,
                    12.79326057434082,
                    2.986546277999878,
                    -6.067793369293213,
                    3.7795653343200684,
                    8.967111587524414,
                    -13.0176362991333,
                    13.999848365783691,
                    -4.45487642288208,
                    -4.8810954093933105,
                    5.555116176605225,
                    0.9194287061691284,
                    24.93903350830078,
                    5.68833065032959,
                    4.569651126861572,
                    -12.355497360229492,
                    1.0152426958084106,
                    5.008787631988525,
                    0.6296609044075012,
                    -11.564029693603516,
                    -8.411843299865723,
                    7.684381484985352,
                    -4.470565319061279,
                    -23.589895248413086,
                    18.8107852935791,
                    -0.10933829098939896,
                    -3.6288812160491943,
                    11.682223320007324,
                    -5.367293357849121,
                    -5.6550068855285645,
                    4.378878116607666,
                    -5.268998622894287,
                    -14.952834129333496,
                    -20.553207397460938,
                    20.57673454284668,
                    7.489674091339111,
                    -18.497283935546875,
                    15.478816986083984,
                    0.6552373170852661,
                    -0.2848116457462311,
                    16.295387268066406,
                    14.998619079589844,
                    -14.986252784729004,
                    -4.807867527008057,
                    14.01340103149414,
                    -11.785754203796387,
                    13.958107948303223,
                    6.9276533126831055,
                    -2.410010576248169,
                    1.1874744892120361,
                    -5.6552863121032715,
                    11.765032768249512,
                    1.6143780946731567,
                    -13.682533264160156,
                    21.361906051635742,
                    0.4194040596485138,
                    9.472039222717285,
                    13.228431701660156,
                    3.351073980331421
                  ]
                }
              ],
              "layout": {
                "scene": {
                  "xaxis": {
                    "title": {
                      "text": "X"
                    }
                  },
                  "yaxis": {
                    "title": {
                      "text": "Y"
                    }
                  },
                  "zaxis": {
                    "title": {
                      "text": "Z"
                    }
                  }
                },
                "template": {
                  "data": {
                    "bar": [
                      {
                        "error_x": {
                          "color": "#2a3f5f"
                        },
                        "error_y": {
                          "color": "#2a3f5f"
                        },
                        "marker": {
                          "line": {
                            "color": "#E5ECF6",
                            "width": 0.5
                          },
                          "pattern": {
                            "fillmode": "overlay",
                            "size": 10,
                            "solidity": 0.2
                          }
                        },
                        "type": "bar"
                      }
                    ],
                    "barpolar": [
                      {
                        "marker": {
                          "line": {
                            "color": "#E5ECF6",
                            "width": 0.5
                          },
                          "pattern": {
                            "fillmode": "overlay",
                            "size": 10,
                            "solidity": 0.2
                          }
                        },
                        "type": "barpolar"
                      }
                    ],
                    "carpet": [
                      {
                        "aaxis": {
                          "endlinecolor": "#2a3f5f",
                          "gridcolor": "white",
                          "linecolor": "white",
                          "minorgridcolor": "white",
                          "startlinecolor": "#2a3f5f"
                        },
                        "baxis": {
                          "endlinecolor": "#2a3f5f",
                          "gridcolor": "white",
                          "linecolor": "white",
                          "minorgridcolor": "white",
                          "startlinecolor": "#2a3f5f"
                        },
                        "type": "carpet"
                      }
                    ],
                    "choropleth": [
                      {
                        "colorbar": {
                          "outlinewidth": 0,
                          "ticks": ""
                        },
                        "type": "choropleth"
                      }
                    ],
                    "contour": [
                      {
                        "colorbar": {
                          "outlinewidth": 0,
                          "ticks": ""
                        },
                        "colorscale": [
                          [
                            0,
                            "#0d0887"
                          ],
                          [
                            0.1111111111111111,
                            "#46039f"
                          ],
                          [
                            0.2222222222222222,
                            "#7201a8"
                          ],
                          [
                            0.3333333333333333,
                            "#9c179e"
                          ],
                          [
                            0.4444444444444444,
                            "#bd3786"
                          ],
                          [
                            0.5555555555555556,
                            "#d8576b"
                          ],
                          [
                            0.6666666666666666,
                            "#ed7953"
                          ],
                          [
                            0.7777777777777778,
                            "#fb9f3a"
                          ],
                          [
                            0.8888888888888888,
                            "#fdca26"
                          ],
                          [
                            1,
                            "#f0f921"
                          ]
                        ],
                        "type": "contour"
                      }
                    ],
                    "contourcarpet": [
                      {
                        "colorbar": {
                          "outlinewidth": 0,
                          "ticks": ""
                        },
                        "type": "contourcarpet"
                      }
                    ],
                    "heatmap": [
                      {
                        "colorbar": {
                          "outlinewidth": 0,
                          "ticks": ""
                        },
                        "colorscale": [
                          [
                            0,
                            "#0d0887"
                          ],
                          [
                            0.1111111111111111,
                            "#46039f"
                          ],
                          [
                            0.2222222222222222,
                            "#7201a8"
                          ],
                          [
                            0.3333333333333333,
                            "#9c179e"
                          ],
                          [
                            0.4444444444444444,
                            "#bd3786"
                          ],
                          [
                            0.5555555555555556,
                            "#d8576b"
                          ],
                          [
                            0.6666666666666666,
                            "#ed7953"
                          ],
                          [
                            0.7777777777777778,
                            "#fb9f3a"
                          ],
                          [
                            0.8888888888888888,
                            "#fdca26"
                          ],
                          [
                            1,
                            "#f0f921"
                          ]
                        ],
                        "type": "heatmap"
                      }
                    ],
                    "heatmapgl": [
                      {
                        "colorbar": {
                          "outlinewidth": 0,
                          "ticks": ""
                        },
                        "colorscale": [
                          [
                            0,
                            "#0d0887"
                          ],
                          [
                            0.1111111111111111,
                            "#46039f"
                          ],
                          [
                            0.2222222222222222,
                            "#7201a8"
                          ],
                          [
                            0.3333333333333333,
                            "#9c179e"
                          ],
                          [
                            0.4444444444444444,
                            "#bd3786"
                          ],
                          [
                            0.5555555555555556,
                            "#d8576b"
                          ],
                          [
                            0.6666666666666666,
                            "#ed7953"
                          ],
                          [
                            0.7777777777777778,
                            "#fb9f3a"
                          ],
                          [
                            0.8888888888888888,
                            "#fdca26"
                          ],
                          [
                            1,
                            "#f0f921"
                          ]
                        ],
                        "type": "heatmapgl"
                      }
                    ],
                    "histogram": [
                      {
                        "marker": {
                          "pattern": {
                            "fillmode": "overlay",
                            "size": 10,
                            "solidity": 0.2
                          }
                        },
                        "type": "histogram"
                      }
                    ],
                    "histogram2d": [
                      {
                        "colorbar": {
                          "outlinewidth": 0,
                          "ticks": ""
                        },
                        "colorscale": [
                          [
                            0,
                            "#0d0887"
                          ],
                          [
                            0.1111111111111111,
                            "#46039f"
                          ],
                          [
                            0.2222222222222222,
                            "#7201a8"
                          ],
                          [
                            0.3333333333333333,
                            "#9c179e"
                          ],
                          [
                            0.4444444444444444,
                            "#bd3786"
                          ],
                          [
                            0.5555555555555556,
                            "#d8576b"
                          ],
                          [
                            0.6666666666666666,
                            "#ed7953"
                          ],
                          [
                            0.7777777777777778,
                            "#fb9f3a"
                          ],
                          [
                            0.8888888888888888,
                            "#fdca26"
                          ],
                          [
                            1,
                            "#f0f921"
                          ]
                        ],
                        "type": "histogram2d"
                      }
                    ],
                    "histogram2dcontour": [
                      {
                        "colorbar": {
                          "outlinewidth": 0,
                          "ticks": ""
                        },
                        "colorscale": [
                          [
                            0,
                            "#0d0887"
                          ],
                          [
                            0.1111111111111111,
                            "#46039f"
                          ],
                          [
                            0.2222222222222222,
                            "#7201a8"
                          ],
                          [
                            0.3333333333333333,
                            "#9c179e"
                          ],
                          [
                            0.4444444444444444,
                            "#bd3786"
                          ],
                          [
                            0.5555555555555556,
                            "#d8576b"
                          ],
                          [
                            0.6666666666666666,
                            "#ed7953"
                          ],
                          [
                            0.7777777777777778,
                            "#fb9f3a"
                          ],
                          [
                            0.8888888888888888,
                            "#fdca26"
                          ],
                          [
                            1,
                            "#f0f921"
                          ]
                        ],
                        "type": "histogram2dcontour"
                      }
                    ],
                    "mesh3d": [
                      {
                        "colorbar": {
                          "outlinewidth": 0,
                          "ticks": ""
                        },
                        "type": "mesh3d"
                      }
                    ],
                    "parcoords": [
                      {
                        "line": {
                          "colorbar": {
                            "outlinewidth": 0,
                            "ticks": ""
                          }
                        },
                        "type": "parcoords"
                      }
                    ],
                    "pie": [
                      {
                        "automargin": true,
                        "type": "pie"
                      }
                    ],
                    "scatter": [
                      {
                        "fillpattern": {
                          "fillmode": "overlay",
                          "size": 10,
                          "solidity": 0.2
                        },
                        "type": "scatter"
                      }
                    ],
                    "scatter3d": [
                      {
                        "line": {
                          "colorbar": {
                            "outlinewidth": 0,
                            "ticks": ""
                          }
                        },
                        "marker": {
                          "colorbar": {
                            "outlinewidth": 0,
                            "ticks": ""
                          }
                        },
                        "type": "scatter3d"
                      }
                    ],
                    "scattercarpet": [
                      {
                        "marker": {
                          "colorbar": {
                            "outlinewidth": 0,
                            "ticks": ""
                          }
                        },
                        "type": "scattercarpet"
                      }
                    ],
                    "scattergeo": [
                      {
                        "marker": {
                          "colorbar": {
                            "outlinewidth": 0,
                            "ticks": ""
                          }
                        },
                        "type": "scattergeo"
                      }
                    ],
                    "scattergl": [
                      {
                        "marker": {
                          "colorbar": {
                            "outlinewidth": 0,
                            "ticks": ""
                          }
                        },
                        "type": "scattergl"
                      }
                    ],
                    "scattermapbox": [
                      {
                        "marker": {
                          "colorbar": {
                            "outlinewidth": 0,
                            "ticks": ""
                          }
                        },
                        "type": "scattermapbox"
                      }
                    ],
                    "scatterpolar": [
                      {
                        "marker": {
                          "colorbar": {
                            "outlinewidth": 0,
                            "ticks": ""
                          }
                        },
                        "type": "scatterpolar"
                      }
                    ],
                    "scatterpolargl": [
                      {
                        "marker": {
                          "colorbar": {
                            "outlinewidth": 0,
                            "ticks": ""
                          }
                        },
                        "type": "scatterpolargl"
                      }
                    ],
                    "scatterternary": [
                      {
                        "marker": {
                          "colorbar": {
                            "outlinewidth": 0,
                            "ticks": ""
                          }
                        },
                        "type": "scatterternary"
                      }
                    ],
                    "surface": [
                      {
                        "colorbar": {
                          "outlinewidth": 0,
                          "ticks": ""
                        },
                        "colorscale": [
                          [
                            0,
                            "#0d0887"
                          ],
                          [
                            0.1111111111111111,
                            "#46039f"
                          ],
                          [
                            0.2222222222222222,
                            "#7201a8"
                          ],
                          [
                            0.3333333333333333,
                            "#9c179e"
                          ],
                          [
                            0.4444444444444444,
                            "#bd3786"
                          ],
                          [
                            0.5555555555555556,
                            "#d8576b"
                          ],
                          [
                            0.6666666666666666,
                            "#ed7953"
                          ],
                          [
                            0.7777777777777778,
                            "#fb9f3a"
                          ],
                          [
                            0.8888888888888888,
                            "#fdca26"
                          ],
                          [
                            1,
                            "#f0f921"
                          ]
                        ],
                        "type": "surface"
                      }
                    ],
                    "table": [
                      {
                        "cells": {
                          "fill": {
                            "color": "#EBF0F8"
                          },
                          "line": {
                            "color": "white"
                          }
                        },
                        "header": {
                          "fill": {
                            "color": "#C8D4E3"
                          },
                          "line": {
                            "color": "white"
                          }
                        },
                        "type": "table"
                      }
                    ]
                  },
                  "layout": {
                    "annotationdefaults": {
                      "arrowcolor": "#2a3f5f",
                      "arrowhead": 0,
                      "arrowwidth": 1
                    },
                    "autotypenumbers": "strict",
                    "coloraxis": {
                      "colorbar": {
                        "outlinewidth": 0,
                        "ticks": ""
                      }
                    },
                    "colorscale": {
                      "diverging": [
                        [
                          0,
                          "#8e0152"
                        ],
                        [
                          0.1,
                          "#c51b7d"
                        ],
                        [
                          0.2,
                          "#de77ae"
                        ],
                        [
                          0.3,
                          "#f1b6da"
                        ],
                        [
                          0.4,
                          "#fde0ef"
                        ],
                        [
                          0.5,
                          "#f7f7f7"
                        ],
                        [
                          0.6,
                          "#e6f5d0"
                        ],
                        [
                          0.7,
                          "#b8e186"
                        ],
                        [
                          0.8,
                          "#7fbc41"
                        ],
                        [
                          0.9,
                          "#4d9221"
                        ],
                        [
                          1,
                          "#276419"
                        ]
                      ],
                      "sequential": [
                        [
                          0,
                          "#0d0887"
                        ],
                        [
                          0.1111111111111111,
                          "#46039f"
                        ],
                        [
                          0.2222222222222222,
                          "#7201a8"
                        ],
                        [
                          0.3333333333333333,
                          "#9c179e"
                        ],
                        [
                          0.4444444444444444,
                          "#bd3786"
                        ],
                        [
                          0.5555555555555556,
                          "#d8576b"
                        ],
                        [
                          0.6666666666666666,
                          "#ed7953"
                        ],
                        [
                          0.7777777777777778,
                          "#fb9f3a"
                        ],
                        [
                          0.8888888888888888,
                          "#fdca26"
                        ],
                        [
                          1,
                          "#f0f921"
                        ]
                      ],
                      "sequentialminus": [
                        [
                          0,
                          "#0d0887"
                        ],
                        [
                          0.1111111111111111,
                          "#46039f"
                        ],
                        [
                          0.2222222222222222,
                          "#7201a8"
                        ],
                        [
                          0.3333333333333333,
                          "#9c179e"
                        ],
                        [
                          0.4444444444444444,
                          "#bd3786"
                        ],
                        [
                          0.5555555555555556,
                          "#d8576b"
                        ],
                        [
                          0.6666666666666666,
                          "#ed7953"
                        ],
                        [
                          0.7777777777777778,
                          "#fb9f3a"
                        ],
                        [
                          0.8888888888888888,
                          "#fdca26"
                        ],
                        [
                          1,
                          "#f0f921"
                        ]
                      ]
                    },
                    "colorway": [
                      "#636efa",
                      "#EF553B",
                      "#00cc96",
                      "#ab63fa",
                      "#FFA15A",
                      "#19d3f3",
                      "#FF6692",
                      "#B6E880",
                      "#FF97FF",
                      "#FECB52"
                    ],
                    "font": {
                      "color": "#2a3f5f"
                    },
                    "geo": {
                      "bgcolor": "white",
                      "lakecolor": "white",
                      "landcolor": "#E5ECF6",
                      "showlakes": true,
                      "showland": true,
                      "subunitcolor": "white"
                    },
                    "hoverlabel": {
                      "align": "left"
                    },
                    "hovermode": "closest",
                    "mapbox": {
                      "style": "light"
                    },
                    "paper_bgcolor": "white",
                    "plot_bgcolor": "#E5ECF6",
                    "polar": {
                      "angularaxis": {
                        "gridcolor": "white",
                        "linecolor": "white",
                        "ticks": ""
                      },
                      "bgcolor": "#E5ECF6",
                      "radialaxis": {
                        "gridcolor": "white",
                        "linecolor": "white",
                        "ticks": ""
                      }
                    },
                    "scene": {
                      "xaxis": {
                        "backgroundcolor": "#E5ECF6",
                        "gridcolor": "white",
                        "gridwidth": 2,
                        "linecolor": "white",
                        "showbackground": true,
                        "ticks": "",
                        "zerolinecolor": "white"
                      },
                      "yaxis": {
                        "backgroundcolor": "#E5ECF6",
                        "gridcolor": "white",
                        "gridwidth": 2,
                        "linecolor": "white",
                        "showbackground": true,
                        "ticks": "",
                        "zerolinecolor": "white"
                      },
                      "zaxis": {
                        "backgroundcolor": "#E5ECF6",
                        "gridcolor": "white",
                        "gridwidth": 2,
                        "linecolor": "white",
                        "showbackground": true,
                        "ticks": "",
                        "zerolinecolor": "white"
                      }
                    },
                    "shapedefaults": {
                      "line": {
                        "color": "#2a3f5f"
                      }
                    },
                    "ternary": {
                      "aaxis": {
                        "gridcolor": "white",
                        "linecolor": "white",
                        "ticks": ""
                      },
                      "baxis": {
                        "gridcolor": "white",
                        "linecolor": "white",
                        "ticks": ""
                      },
                      "bgcolor": "#E5ECF6",
                      "caxis": {
                        "gridcolor": "white",
                        "linecolor": "white",
                        "ticks": ""
                      }
                    },
                    "title": {
                      "x": 0.05
                    },
                    "xaxis": {
                      "automargin": true,
                      "gridcolor": "white",
                      "linecolor": "white",
                      "ticks": "",
                      "title": {
                        "standoff": 15
                      },
                      "zerolinecolor": "white",
                      "zerolinewidth": 2
                    },
                    "yaxis": {
                      "automargin": true,
                      "gridcolor": "white",
                      "linecolor": "white",
                      "ticks": "",
                      "title": {
                        "standoff": 15
                      },
                      "zerolinecolor": "white",
                      "zerolinewidth": 2
                    }
                  }
                },
                "title": {
                  "text": "Scatter plot of TSNE reduction algorithm axis"
                }
              }
            }
          },
          "metadata": {},
          "output_type": "display_data"
        }
      ],
      "source": [
        "#death_event = death_event.astype(int)\n",
        "fig = go.Figure()\n",
        "fig.add_trace(go.Scatter3d(\n",
        "    x= X_embedded[:,0], y=X_embedded[:,1], z=X_embedded[:,2],  # Datos de x, y y z\n",
        "    mode='markers',  # Estilo de marcador\n",
        "    marker=dict(\n",
        "        size=5,  # Tamaño de los marcadores\n",
        "        color= death_event,  # Variable z para la escala de colores\n",
        "        colorscale='Plasma',  # Colormap para los colores de los marcadores\n",
        "        opacity=0.8  # Opacidad de los marcadores\n",
        "    )\n",
        "))\n",
        "\n",
        "# Personalizar el diseño de la gráfica\n",
        "fig.update_layout(\n",
        "    title='Scatter plot of TSNE reduction algorithm axis',  # Título de la gráfica\n",
        "    scene=dict(\n",
        "        xaxis_title='X',  # Etiqueta del eje x\n",
        "        yaxis_title='Y',  # Etiqueta del eje y\n",
        "        zaxis_title='Z'  # Etiqueta del eje z\n",
        "    )\n",
        ")\n",
        "\n",
        "fig.show()"
      ]
    }
  ],
  "metadata": {
    "colab": {
      "authorship_tag": "ABX9TyN03IrkbrWj7EQeVZb8Y2H3",
      "include_colab_link": true,
      "provenance": []
    },
    "kernelspec": {
      "display_name": "Python 3",
      "name": "python3"
    },
    "language_info": {
      "codemirror_mode": {
        "name": "ipython",
        "version": 3
      },
      "file_extension": ".py",
      "mimetype": "text/x-python",
      "name": "python",
      "nbconvert_exporter": "python",
      "pygments_lexer": "ipython3",
      "version": "3.11.4"
    }
  },
  "nbformat": 4,
  "nbformat_minor": 0
}
